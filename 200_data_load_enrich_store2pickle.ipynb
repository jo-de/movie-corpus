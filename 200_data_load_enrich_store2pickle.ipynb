{
 "cells": [
  {
   "cell_type": "code",
   "execution_count": 2,
   "metadata": {},
   "outputs": [],
   "source": [
    "import pandas as pd\n",
    "import pickle\n"
   ]
  },
  {
   "cell_type": "code",
   "execution_count": 3,
   "metadata": {},
   "outputs": [],
   "source": [
    "def read_file(file, names):\n",
    "    return pd.read_csv(file\n",
    "            , sep=' \\+\\+\\+\\$\\+\\+\\+ ' # solved delim issue must be regex \n",
    "            , header = None\n",
    "            , lineterminator='\\r\\n'\n",
    "            #, index_col=0\n",
    "            , encoding='latin-1' # solved issue with loading\n",
    "            , names=names\n",
    "            )\n",
    "\n",
    "# load conversation dataframes from txt format \n",
    "df_characters = read_file('movie_characters_metadata.txt',\n",
    "                        names=['speaker_id','meta.character_name', 'meta.movie_idx', 'meta.movie_name','meta.gender', 'meta.credit_pos'])\n",
    "df_conversations = read_file('movie_conversations.txt',\n",
    "                        names=['speaker1','speaker2','meta.movie_id','conversation_lines'])\n",
    "df_lines = read_file('movie_lines.txt',\n",
    "                        names=['line_id','speaker','meta.movie_id','meta.character_name','text'])\n",
    "df_metadata = read_file('movie_titles_metadata.txt',\n",
    "                        names=['meta.movie_id','meta.movie_name', 'meta.release_year','meta.rating', 'meta.votes', 'meta.genre'])\n"
   ]
  },
  {
   "cell_type": "code",
   "execution_count": 4,
   "metadata": {},
   "outputs": [
    {
     "output_type": "execute_result",
     "data": {
      "text/plain": [
       "199    244\n",
       "200    144\n",
       "198    108\n",
       "197     51\n",
       "196     19\n",
       "195     17\n",
       "193     16\n",
       "194     15\n",
       "192      2\n",
       "201      1\n",
       "Name: meta.release_decade, dtype: int64"
      ]
     },
     "metadata": {},
     "execution_count": 4
    }
   ],
   "source": [
    "# add release decade column\n",
    "df_metadata['meta.release_decade'] = df_metadata['meta.release_year'].str[:3]\n",
    "df_metadata['meta.release_decade'].value_counts()"
   ]
  },
  {
   "cell_type": "code",
   "execution_count": 5,
   "metadata": {},
   "outputs": [],
   "source": [
    "### add missing genders\n",
    "# load additional movie data. source: kaggle https://www.kaggle.com/rounakbanik/the-movies-dataset\n",
    "credits = pd.read_csv('credits.csv')\n",
    "# movie data corpus\n",
    "movies_metadata = pd.read_csv('movies_metadata.csv')\n",
    "\n",
    "# ensure numeric ids\n",
    "credits[\"id\"] = pd.to_numeric(credits[\"id\"])\n",
    "movies_metadata = movies_metadata[movies_metadata.id.apply(lambda x: x.isnumeric())]\n",
    "movies_metadata[\"id\"] = pd.to_numeric(movies_metadata[\"id\"])\n",
    "movies_metadata = pd.merge(movies_metadata, credits, left_on='id', right_on='id')\n",
    "\n",
    "# evaluae json and make it parseable\n",
    "from ast import literal_eval\n",
    "movies_metadata['cast2'] = movies_metadata['cast'].apply(literal_eval)\n",
    "\n",
    "#print(df_characters['meta.movie_idx'], df_metadata['meta.movie_id'])\n",
    "\n",
    "# JOIN charactes df and metadata df.  \n",
    "df_missing = pd.merge(  df_characters\n",
    "                    , df_metadata[['meta.movie_id','meta.release_year']]\n",
    "                    , left_on='meta.movie_idx'\n",
    "                    , right_on='meta.movie_id'\n",
    "                    , suffixes=(\"\", \"_m1\")\n",
    "                    )\n",
    "# reduce dataframe to entries with missing gender\n",
    "df_missing = df_missing[df_missing['meta.gender'] == '?' ]\n",
    "\n",
    "# get unique movies by name and release year\n",
    "df_missing_unique = df_missing[['meta.movie_name','meta.release_year']].drop_duplicates()\n",
    "#print(df_missing_unique)\n",
    "\n",
    "# mark movies in movies_metadata based on unique movies list as relevant to reduce data for next step\n",
    "def get_sublist(x):\n",
    "        movies_metadata.loc[\n",
    "            movies_metadata['original_title'].str.contains(x['meta.movie_name'], case=False) \n",
    "            & movies_metadata['release_date'].str.contains(x['meta.release_year'], case=False)\n",
    "            ,'relevant'] = 1\n",
    "df_missing_unique.apply(get_sublist,axis=1)\n",
    "\n",
    "# only relavant movies will \n",
    "movies_metadata_relevant = movies_metadata[movies_metadata['relevant'] == 1]\n"
   ]
  },
  {
   "cell_type": "code",
   "execution_count": 28,
   "metadata": {},
   "outputs": [
    {
     "output_type": "stream",
     "name": "stderr",
     "text": [
      "6020it [02:57, 33.98it/s]\n"
     ]
    }
   ],
   "source": [
    "\n",
    "from tqdm import tqdm\n",
    "import string\n",
    "\n",
    "def get_characters_gender(name,x):\n",
    "    for i in x:\n",
    "        if name in i['character'].upper():\n",
    "            if i['gender'] == 1:\n",
    "               return 'f'\n",
    "            elif i['gender'] == 2:\n",
    "               return 'm'\n",
    "    return '?'\n",
    "\n",
    "def remove_punctuations(text):\n",
    "    for punctuation in '\"':\n",
    "        text = text.replace(punctuation, '')\n",
    "    return text\n",
    "\n",
    "last_movie = \"\"\n",
    "\n",
    "# iterate characters without gender information \n",
    "for index, row in tqdm(df_missing.iterrows()):\n",
    "    if last_movie != row['meta.movie_name']: \n",
    "        #print(last_movie)\n",
    "        #print(row['meta.character_name'])\n",
    "\n",
    "        # find cast for a movie in the additional data set from kaggle using MOVIE NAME and RELEASE YEAR.\n",
    "        cast2 = movies_metadata_relevant.query('original_title.str.contains(\"' + remove_punctuations(str(row['meta.movie_name'])) + '\", case=False) and release_date.str.contains(\"' + row['meta.release_year'] + '\", case=False) and cast.str.contains(\"' + remove_punctuations(str(row['meta.character_name'])) + '\", case=False)', engine='python')['cast2']\n",
    "\n",
    "    # find character gender in additional data and set it in working df\n",
    "    for movie_casts in cast2:\n",
    "        gen = get_characters_gender(row['meta.character_name'],movie_casts)\n",
    "        df_characters.loc[df_characters['speaker_id'] == row['speaker_id'],'meta.gender'] = gen\n",
    "        \n",
    "    last_movie == row['meta.movie_name']\n",
    "\n",
    "#df_missing[df_missing['meta.gender'] == '?' ]"
   ]
  },
  {
   "cell_type": "code",
   "execution_count": 29,
   "metadata": {},
   "outputs": [],
   "source": [
    "# Pickle it for later use\n",
    "df_characters.to_pickle(\"df_characters.pkl\")\n",
    "df_conversations.to_pickle(\"df_conversations.pkl\")\n",
    "df_lines.to_pickle(\"df_lines.pkl\")\n",
    "df_metadata.to_pickle(\"df_metadata.pkl\")"
   ]
  }
 ],
 "metadata": {
  "kernelspec": {
   "display_name": "Python 3",
   "language": "python",
   "name": "python3"
  },
  "language_info": {
   "codemirror_mode": {
    "name": "ipython",
    "version": 3
   },
   "file_extension": ".py",
   "mimetype": "text/x-python",
   "name": "python",
   "nbconvert_exporter": "python",
   "pygments_lexer": "ipython3",
   "version": "3.7.7-final"
  }
 },
 "nbformat": 4,
 "nbformat_minor": 2
}